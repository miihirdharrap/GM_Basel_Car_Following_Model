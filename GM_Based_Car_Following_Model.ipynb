{
 "cells": [
  {
   "attachments": {},
   "cell_type": "markdown",
   "id": "491a3915",
   "metadata": {},
   "source": [
    "# GM based car following model"
   ]
  },
  {
   "cell_type": "code",
   "execution_count": 1,
   "id": "01b574b0",
   "metadata": {},
   "outputs": [],
   "source": [
    "#import all the necessary libraries\n",
    "import numpy as np\n",
    "import matplotlib.pyplot as plt\n",
    "import pandas as pd\n",
    "from scipy.optimize import curve_fit\n",
    "import math"
   ]
  },
  {
   "attachments": {},
   "cell_type": "markdown",
   "id": "b1f8f058",
   "metadata": {},
   "source": [
    "Read the excel sheet and extract the dataset <br>\n",
    "Following statement should be used to filter a particular leader-follower pair from the dataset <br>\n",
    "```df_filter = df.groupby(\"LF_pair\").get_group(1)```"
   ]
  },
  {
   "cell_type": "code",
   "execution_count": 2,
   "id": "431f06c2",
   "metadata": {},
   "outputs": [
    {
     "name": "stdout",
     "output_type": "stream",
     "text": [
      "      LF_pair VehicleID        Time   Position      Speed  Acceleration\n",
      "0           1    Bike_1   35.733333  50.192392  13.815458      0.227008\n",
      "1           1    Bike_2   35.733333  61.456807  14.199668     -0.361772\n",
      "2           1    Bike_1   35.766667  49.689652  13.804018      0.223941\n",
      "3           1    Bike_2   35.766667  60.983469  14.201858     -0.264244\n",
      "4           1    Bike_1   35.800000  49.205511  13.790835      0.220522\n",
      "...       ...       ...         ...        ...        ...           ...\n",
      "1201        9    Car_16  846.500000  20.027389  18.713463      0.009891\n",
      "1202        9    Car_15  846.533333   1.192230  14.525861     -0.087009\n",
      "1203        9    Car_16  846.533333  19.412521  18.779009      0.008472\n",
      "1204        9    Car_15  846.566667   0.725796  14.535505     -0.088380\n",
      "1205        9    Car_16  846.566667  18.803432  18.838735      0.006855\n",
      "\n",
      "[1206 rows x 6 columns]\n"
     ]
    }
   ],
   "source": [
    "df = pd.read_excel(\"Dataset.xlsx\")\n",
    "print(df)"
   ]
  },
  {
   "attachments": {},
   "cell_type": "markdown",
   "id": "1924c2eb",
   "metadata": {},
   "source": [
    "So the Data that we need is<br> 1) Leader : - Time stamp; Velocity; Position; acceleration<br>\n",
    "2) Follower : - Time Stamp; Velocity; Position<br>\n",
    "We will calculate the acceleration of the follower based on the above parameters using the following formula"
   ]
  },
  {
   "attachments": {},
   "cell_type": "markdown",
   "id": "ff88cb55",
   "metadata": {},
   "source": [
    "$\\\\ \\ddot{x}_{n+1}(t + \\Delta t) = \\{ \\frac{\\alpha(l,m)(\\dot{x}_{n+1}(t + \\Delta t))^m}{(x_{n}(t) - x_{n+1}(t))^l}\\}[\\dot{x}_{n}(t) - \\dot{x}_{n+1}(t)] $"
   ]
  },
  {
   "attachments": {},
   "cell_type": "markdown",
   "id": "2fcdd33b",
   "metadata": {},
   "source": [
    "### Load the training dataset"
   ]
  },
  {
   "cell_type": "code",
   "execution_count": 3,
   "id": "67a5f4ac",
   "metadata": {},
   "outputs": [],
   "source": [
    "x_train = [df.iloc[::2] , df.iloc[1::2, :-1]] # This contains the input parameters\n",
    "Y_train = df.iloc[1::2, -1] # this contains the acceleration of the follower after time delT"
   ]
  },
  {
   "attachments": {},
   "cell_type": "markdown",
   "id": "7ed3f9be",
   "metadata": {},
   "source": [
    "### Load the input data from the training dataframe"
   ]
  },
  {
   "cell_type": "code",
   "execution_count": 4,
   "id": "c918c632",
   "metadata": {},
   "outputs": [],
   "source": [
    "follower_s_t1 = x_train[1].iloc[:, 3]\n",
    "follower_v_t1 = x_train[1].iloc[:-1, 4]\n",
    "follower_v_t2 = x_train[1].iloc[1:, 4]\n",
    "leader_s_t1 = x_train[0].iloc[:, 3]\n",
    "leader_v_t1 = x_train[0].iloc[:-1, 4]\n",
    "\n",
    "# Since the 1-Dimensional dataframes for the input values are not of equal shapes we have to account for the missing value\n",
    "# here I used the averaging method to fill out all the sinks\n",
    "follower_v_t1[114] = follower_v_t1.mean()\n",
    "follower_v_t2[114] = follower_v_t2.mean()\n",
    "leader_v_t1[115] = leader_v_t1.mean()\n"
   ]
  },
  {
   "attachments": {},
   "cell_type": "markdown",
   "id": "af873cfe",
   "metadata": {},
   "source": [
    "Compile all the 1D dataframes into a python nd array"
   ]
  },
  {
   "cell_type": "code",
   "execution_count": 5,
   "id": "eebc890f",
   "metadata": {},
   "outputs": [
    {
     "data": {
      "text/plain": [
       "(5, 1, 603)"
      ]
     },
     "execution_count": 5,
     "metadata": {},
     "output_type": "execute_result"
    }
   ],
   "source": [
    "X_train = np.array([[follower_v_t2],[ leader_s_t1], [follower_s_t1],[leader_v_t1],[follower_v_t1]])\n",
    "X_train.shape"
   ]
  },
  {
   "attachments": {},
   "cell_type": "markdown",
   "id": "33ca687f",
   "metadata": {},
   "source": [
    "### Define the equation to estimate the accleration of the following vehicle"
   ]
  },
  {
   "cell_type": "code",
   "execution_count": 6,
   "id": "66cfad18",
   "metadata": {},
   "outputs": [],
   "source": [
    "def carFollowingEquation1(X_train, a, l, m):\n",
    "    follower_a_t2 = np.multiply(np.divide((a*(np.power(X_train[0][0][:],m))),np.power(np.subtract(X_train[2][0][:], X_train[1][0][:]),l)),np.subtract(X_train[3][0][:], X_train[4][0][:]))\n",
    "    return follower_a_t2"
   ]
  },
  {
   "attachments": {},
   "cell_type": "markdown",
   "id": "ca80c993",
   "metadata": {},
   "source": [
    "### Define the gradient function"
   ]
  },
  {
   "cell_type": "code",
   "execution_count": 7,
   "id": "bbd2716d",
   "metadata": {},
   "outputs": [],
   "source": [
    "def gradient_function(X, y, params):\n",
    "    y_pred = carFollowingEquation1(X, *params)\n",
    "    grad = np.zeros(len(params))\n",
    "    for i in range(len(params)):\n",
    "        if i == 0:\n",
    "            grad[i] = np.mean(2 * np.multiply((X[0]**params[2] / (np.subtract(X[2],X[1]))**params[1]) * (np.subtract(X[3],X[4])), np.broadcast_to((y_pred - y), (603, ))))\n",
    "        elif i == 1:\n",
    "            grad[i] = np.mean(2 * np.multiply((((params[0]*X[0]**params[2])*np.log((np.subtract(X[2],X[1])) + 0.00001)*(np.subtract(X[3],X[4]))) / (np.subtract(X[2],X[1]))**(params[1]+1)), np.broadcast_to((y - y_pred), (603, ))))\n",
    "        elif i == 2:\n",
    "            grad[i] = np.mean(2 * np.multiply((params[0]*X[0]**params[2] * np.log(X[0] + 0.00001)) / (np.subtract(X[2],X[1]))**params[1] * (np.subtract(X[3],X[4])),np.broadcast_to((y_pred - y), (603, ))))\n",
    "    return grad"
   ]
  },
  {
   "attachments": {},
   "cell_type": "markdown",
   "id": "c1bbdb71",
   "metadata": {},
   "source": [
    "### Define the cost function\n",
    "Here we compute the cost of the equation based on an intermediate value of the parameters\n",
    "our aim is to minimize the cost"
   ]
  },
  {
   "cell_type": "code",
   "execution_count": 8,
   "id": "54163326",
   "metadata": {},
   "outputs": [],
   "source": [
    "def cost_function(X, y, params):\n",
    "    y_pred = carFollowingEquation1(X, *params)\n",
    "    cost = np.mean((y_pred - y)**2)\n",
    "    return cost"
   ]
  },
  {
   "attachments": {},
   "cell_type": "markdown",
   "id": "a536ef08",
   "metadata": {},
   "source": [
    "### Define the gradient descent function\n",
    "Now its time to apply the gradient descent algorithm\n",
    "we use backward propagation to estimate the gradients and then update the gradients as\n",
    "learning rate times the partial derivative of the cost function wrt the parameter"
   ]
  },
  {
   "cell_type": "code",
   "execution_count": 40,
   "id": "d1916b94",
   "metadata": {},
   "outputs": [],
   "source": [
    "def gradient_descent(X, y, params, learning_rate, max_epochs):\n",
    "    # Perform gradient descent\n",
    "    cache = []\n",
    "    epoch = []\n",
    "    for i in range(max_epochs):\n",
    "        grad = gradient_function(X, y, params)\n",
    "        params -= learning_rate * grad\n",
    "        cost = cost_function(X, y, params)\n",
    "        cache.append(cost)\n",
    "        epoch.append(i)\n",
    "        # Print the cost every 10 epochs\n",
    "        if i % 5 == 0:\n",
    "            print(f\"Epoch {i}, Cost: {cost:.4f}\")\n",
    "        \n",
    "    return params, cache, epoch"
   ]
  },
  {
   "attachments": {},
   "cell_type": "markdown",
   "id": "28c98174",
   "metadata": {},
   "source": [
    "### Compile all parts of the model\n",
    "Initialize the parameters purely user based hence can be modified"
   ]
  },
  {
   "cell_type": "code",
   "execution_count": 46,
   "id": "4aa6ffbc",
   "metadata": {},
   "outputs": [
    {
     "name": "stdout",
     "output_type": "stream",
     "text": [
      "Parameters: [-0.04872808  0.61655933  0.65265641]\n"
     ]
    },
    {
     "data": {
      "image/png": "[encoded data removed]",
      "text/plain": [
       "<Figure size 640x480 with 1 Axes>"
      ]
     },
     "metadata": {},
     "output_type": "display_data"
    }
   ],
   "source": [
    "params = np.array([0.3, 0.6, 1], dtype = float)\n",
    "\n",
    "# Set the hyperparameters\n",
    "learning_rate = 0.01\n",
    "max_epochs = 20\n",
    "\n",
    "# Apply the Gradient descent\n",
    "parameters, cache, epoch = gradient_descent(X_train, Y_train, params, learning_rate, max_epochs)\n",
    "\n",
    "#Get the parameters\n",
    "print(f\"Parameters: {parameters}\")\n",
    "\n",
    "#plot the graph of the cost function wrt number of iterations\n",
    "plt.plot(epoch, cache)\n",
    "plt.xlabel('#iterations')\n",
    "plt.ylabel('cost')\n",
    "plt.show()"
   ]
  },
  {
   "cell_type": "code",
   "execution_count": null,
   "id": "b72c197b",
   "metadata": {},
   "outputs": [],
   "source": []
  }
 ],
 "metadata": {
  "kernelspec": {
   "display_name": "Python 3 (ipykernel)",
   "language": "python",
   "name": "python3"
  },
  "language_info": {
   "codemirror_mode": {
    "name": "ipython",
    "version": 3
   },
   "file_extension": ".py",
   "mimetype": "text/x-python",
   "name": "python",
   "nbconvert_exporter": "python",
   "pygments_lexer": "ipython3",
   "version": "3.10.7"
  }
 },
 "nbformat": 4,
 "nbformat_minor": 5
}
